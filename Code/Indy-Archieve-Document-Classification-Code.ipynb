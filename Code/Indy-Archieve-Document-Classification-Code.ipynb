{
  "nbformat": 4,
  "nbformat_minor": 0,
  "metadata": {
    "colab": {
      "name": "Deep Learning Project Group 10.ipynb",
      "provenance": [],
      "collapsed_sections": []
    },
    "kernelspec": {
      "name": "python3",
      "display_name": "Python 3"
    }
  },
  "cells": [
    {
      "cell_type": "markdown",
      "metadata": {
        "id": "_WMZSyFQBn6i"
      },
      "source": [
        "# Indy Archieve Document Classification Project"
      ]
    },
    {
      "cell_type": "markdown",
      "metadata": {
        "id": "1uJKi3aPBnbD"
      },
      "source": [
        "# Goal of this project\r\n",
        "The goal of this project is to automate the document classification process by building a predictive model to classify them into categories of geography, time, person, and organization.\r\n",
        "\r\n",
        "This categorization will facilitate archival and search of articles for years to come and get rid of the mundane tasks of reading and annotating articles manually."
      ]
    },
    {
      "cell_type": "markdown",
      "metadata": {
        "id": "Yv1JH04OBCja"
      },
      "source": [
        "# Importing required libraries"
      ]
    },
    {
      "cell_type": "code",
      "metadata": {
        "id": "3dM3JjthZhxP"
      },
      "source": [
        "import pandas as pd\n",
        "import matplotlib.pyplot as plt\n",
        "import numpy as np\n",
        "import re\n",
        "import tensorflow as tf\n",
        "from tensorflow.keras.preprocessing.text import Tokenizer\n",
        "from tensorflow.keras.preprocessing.sequence import pad_sequences\n",
        "from tensorflow.keras.utils import plot_model\n",
        "%matplotlib inline\n",
        "from google.colab import files"
      ],
      "execution_count": 1,
      "outputs": []
    },
    {
      "cell_type": "code",
      "metadata": {
        "id": "WU7EMxE5unAU",
        "colab": {
          "resources": {
            "http://localhost:8080/nbextensions/google.colab/files.js": {
              "data": "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",
              "ok": true,
              "headers": [
                [
                  "content-type",
                  "application/javascript"
                ]
              ],
              "status": 200,
              "status_text": ""
            }
          },
          "base_uri": "https://localhost:8080/",
          "height": 73
        },
        "outputId": "ff263a28-2460-47c2-bb75-d39d51ea3794"
      },
      "source": [
        "uploaded = files.upload()"
      ],
      "execution_count": 2,
      "outputs": [
        {
          "output_type": "display_data",
          "data": {
            "text/html": [
              "\n",
              "     <input type=\"file\" id=\"files-3abcfc81-4bce-48ea-bfea-6959c243b1dc\" name=\"files[]\" multiple disabled\n",
              "        style=\"border:none\" />\n",
              "     <output id=\"result-3abcfc81-4bce-48ea-bfea-6959c243b1dc\">\n",
              "      Upload widget is only available when the cell has been executed in the\n",
              "      current browser session. Please rerun this cell to enable.\n",
              "      </output>\n",
              "      <script src=\"/nbextensions/google.colab/files.js\"></script> "
            ],
            "text/plain": [
              "<IPython.core.display.HTML object>"
            ]
          },
          "metadata": {
            "tags": []
          }
        },
        {
          "output_type": "stream",
          "text": [
            "Saving Annotated Data - Deep Learning Project.csv to Annotated Data - Deep Learning Project (7).csv\n"
          ],
          "name": "stdout"
        }
      ]
    },
    {
      "cell_type": "markdown",
      "metadata": {
        "id": "WVOVBWAxHUg1"
      },
      "source": [
        "# Understanding the Data"
      ]
    },
    {
      "cell_type": "markdown",
      "metadata": {
        "id": "G9SHGgmqZs2i"
      },
      "source": [
        "Reading the file"
      ]
    },
    {
      "cell_type": "code",
      "metadata": {
        "id": "YgYFT8sZuu54"
      },
      "source": [
        "dataFrame= pd.read_csv(\"Annotated Data - Deep Learning Project.csv\")"
      ],
      "execution_count": 3,
      "outputs": []
    },
    {
      "cell_type": "markdown",
      "metadata": {
        "id": "pP7o7h9onHJ3"
      },
      "source": [
        "Checking the shape of the data\n"
      ]
    },
    {
      "cell_type": "code",
      "metadata": {
        "id": "yWVk4pmvuv-3",
        "colab": {
          "base_uri": "https://localhost:8080/"
        },
        "outputId": "b0706bb8-56f1-4bd9-b181-fc6c1e7ecdbe"
      },
      "source": [
        "dataFrame.shape"
      ],
      "execution_count": 4,
      "outputs": [
        {
          "output_type": "execute_result",
          "data": {
            "text/plain": [
              "(300, 4)"
            ]
          },
          "metadata": {
            "tags": []
          },
          "execution_count": 4
        }
      ]
    },
    {
      "cell_type": "code",
      "metadata": {
        "id": "UJkzz84Ruzg6",
        "colab": {
          "base_uri": "https://localhost:8080/",
          "height": 141
        },
        "outputId": "2f55a84f-ffac-4ecc-8d49-78d28ccdfced"
      },
      "source": [
        "dataFrame.head(3)"
      ],
      "execution_count": 5,
      "outputs": [
        {
          "output_type": "execute_result",
          "data": {
            "text/html": [
              "<div>\n",
              "<style scoped>\n",
              "    .dataframe tbody tr th:only-of-type {\n",
              "        vertical-align: middle;\n",
              "    }\n",
              "\n",
              "    .dataframe tbody tr th {\n",
              "        vertical-align: top;\n",
              "    }\n",
              "\n",
              "    .dataframe thead th {\n",
              "        text-align: right;\n",
              "    }\n",
              "</style>\n",
              "<table border=\"1\" class=\"dataframe\">\n",
              "  <thead>\n",
              "    <tr style=\"text-align: right;\">\n",
              "      <th></th>\n",
              "      <th>Body</th>\n",
              "      <th>Category</th>\n",
              "      <th>Unnamed: 2</th>\n",
              "      <th>Unnamed: 3</th>\n",
              "    </tr>\n",
              "  </thead>\n",
              "  <tbody>\n",
              "    <tr>\n",
              "      <th>0</th>\n",
              "      <td>(Jan 1, 1916-Nov 6, 1987). As a college studen...</td>\n",
              "      <td>Person</td>\n",
              "      <td>NaN</td>\n",
              "      <td>NaN</td>\n",
              "    </tr>\n",
              "    <tr>\n",
              "      <th>1</th>\n",
              "      <td>(Dec. 24, 1880-Jan. 9, 1938). Born in Arcola, ...</td>\n",
              "      <td>Person</td>\n",
              "      <td>NaN</td>\n",
              "      <td>NaN</td>\n",
              "    </tr>\n",
              "    <tr>\n",
              "      <th>2</th>\n",
              "      <td>The building’s design was born out of the heig...</td>\n",
              "      <td>Time</td>\n",
              "      <td>NaN</td>\n",
              "      <td>NaN</td>\n",
              "    </tr>\n",
              "  </tbody>\n",
              "</table>\n",
              "</div>"
            ],
            "text/plain": [
              "                                                Body  ... Unnamed: 3\n",
              "0  (Jan 1, 1916-Nov 6, 1987). As a college studen...  ...        NaN\n",
              "1  (Dec. 24, 1880-Jan. 9, 1938). Born in Arcola, ...  ...        NaN\n",
              "2  The building’s design was born out of the heig...  ...        NaN\n",
              "\n",
              "[3 rows x 4 columns]"
            ]
          },
          "metadata": {
            "tags": []
          },
          "execution_count": 5
        }
      ]
    },
    {
      "cell_type": "code",
      "metadata": {
        "id": "Su35mzUzY40b"
      },
      "source": [
        ""
      ],
      "execution_count": 5,
      "outputs": []
    },
    {
      "cell_type": "markdown",
      "metadata": {
        "id": "gVW2BwGrw1Es"
      },
      "source": [
        "Selecting only Body and Category Column as we need only these columns to perform analysis"
      ]
    },
    {
      "cell_type": "code",
      "metadata": {
        "id": "ZEX4I7gDu1a_"
      },
      "source": [
        "dataFrame=dataFrame[['Body','Category']]"
      ],
      "execution_count": 6,
      "outputs": []
    },
    {
      "cell_type": "markdown",
      "metadata": {
        "id": "a9Atgw8wB--7"
      },
      "source": [
        "Displaying the first document"
      ]
    },
    {
      "cell_type": "code",
      "metadata": {
        "id": "9-rXZro-u4MO",
        "colab": {
          "base_uri": "https://localhost:8080/",
          "height": 139
        },
        "outputId": "c2453166-4812-426c-a84f-e5ff0d276260"
      },
      "source": [
        "dataFrame['Body'][0]"
      ],
      "execution_count": 7,
      "outputs": [
        {
          "output_type": "execute_result",
          "data": {
            "application/vnd.google.colaboratory.intrinsic+json": {
              "type": "string"
            },
            "text/plain": [
              "\"(Jan 1, 1916-Nov 6, 1987). As a college student Nellie M. Gilroy aimed toward a career in social service. The Atlanta, Georgia, native graduated cum laude from Agnes Scott College, Decatur, Georgia, and earned her masters degree in social work from Western Reserve University, Cleveland, Ohio. She pursued her career in Cleveland, Chicago, Houston, and the Virgin Islands before coming to Indianapolis in 1952 with her husband, Howard F. Gustafson, who served as executive director of the COMMUNITY SERVICE COUNCILof Metropolitan Indianapolis, and their three children. Gustafson served as associate director of the {INDIANAPOLIS URBAN LEAGUE}::EL from 1966 to 1975 when she became executive director of the {YOUNG WOMEN'S CHRISTIAN ASSOCIATION OF INDIANAPOLIS}::EL (YWCA). She came at a time of change; the organization was in temporary quarters on Fort Wayne Avenue, having closed the deteriorating headquarters at 329 Pennsylvania Street that it had occupied since 1909. Gustafson oversaw the move to the former Dolphin Club at 4460 Guion Road and the modification of the facilities there for the YWCA's use. She initiated many other changes, adding new programs and spurring successful drives for increased membership and activities. She retired for health reasons in 1982. Gustafson was active in many other civic endeavors, receiving a number of honors for her work. She was named Woman of the Year by B'nai B'rith in 1969 and by the YWCA in 1975. The {CHRISTIAN THEOLOGICAL SEMINARY}::EL honored her with its Outstanding Civic Achievement Award in 1975. She was a recipient of the Indiana Jefferson Award in 1977 and was named Indiana Social Worker of the Year in 1981.\""
            ]
          },
          "metadata": {
            "tags": []
          },
          "execution_count": 7
        }
      ]
    },
    {
      "cell_type": "markdown",
      "metadata": {
        "id": "4OesWsCeHb3J"
      },
      "source": [
        "# Data Pre-Processing"
      ]
    },
    {
      "cell_type": "markdown",
      "metadata": {
        "id": "dyTjn_TZZ0WE"
      },
      "source": [
        "1. Checking the null count in the columns"
      ]
    },
    {
      "cell_type": "code",
      "metadata": {
        "id": "rdDAwxqiu7Bo",
        "colab": {
          "base_uri": "https://localhost:8080/"
        },
        "outputId": "2fb9395e-2408-4e71-8910-7d9bcd48deb9"
      },
      "source": [
        "dataFrame.isnull().sum()"
      ],
      "execution_count": 8,
      "outputs": [
        {
          "output_type": "execute_result",
          "data": {
            "text/plain": [
              "Body        0\n",
              "Category    0\n",
              "dtype: int64"
            ]
          },
          "metadata": {
            "tags": []
          },
          "execution_count": 8
        }
      ]
    },
    {
      "cell_type": "markdown",
      "metadata": {
        "id": "Ie1uY103Z31b"
      },
      "source": [
        "Dropping the duplicates rows"
      ]
    },
    {
      "cell_type": "code",
      "metadata": {
        "id": "D4vpookavAQT"
      },
      "source": [
        "dataFrame= dataFrame.drop_duplicates()"
      ],
      "execution_count": 9,
      "outputs": []
    },
    {
      "cell_type": "markdown",
      "metadata": {
        "id": "KQwsO-QhJzqz"
      },
      "source": [
        "Counting the number of samples to perform analysis"
      ]
    },
    {
      "cell_type": "code",
      "metadata": {
        "id": "ovK4fUwCvIYD",
        "colab": {
          "base_uri": "https://localhost:8080/"
        },
        "outputId": "cb32fa92-a4be-46b7-eb48-1424a2c24a40"
      },
      "source": [
        "dataFrame.count()"
      ],
      "execution_count": 10,
      "outputs": [
        {
          "output_type": "execute_result",
          "data": {
            "text/plain": [
              "Body        299\n",
              "Category    299\n",
              "dtype: int64"
            ]
          },
          "metadata": {
            "tags": []
          },
          "execution_count": 10
        }
      ]
    },
    {
      "cell_type": "markdown",
      "metadata": {
        "id": "vCeLZPwRHpHy"
      },
      "source": [
        "2. Removing the special characters from the Body column which contains the articles\r\n"
      ]
    },
    {
      "cell_type": "code",
      "metadata": {
        "id": "JUTw2RdUHr7u"
      },
      "source": [
        "dataFrame['Body']=dataFrame['Body'].apply(lambda text: ' '.join(re.sub(\"[\\.\\,\\<\\>\\?\\\\\\/\\{\\}\\[\\]\\+\\=\\-\\_\\(\\)\\`\\~\\!\\$\\%\\^\\&\\*\\;\\:\\''\\\"\\#]\",\" \",text).split()))"
      ],
      "execution_count": 11,
      "outputs": []
    },
    {
      "cell_type": "code",
      "metadata": {
        "id": "2ghdCwSpK1nd"
      },
      "source": [
        ""
      ],
      "execution_count": 11,
      "outputs": []
    },
    {
      "cell_type": "markdown",
      "metadata": {
        "id": "pXQXy-PuK11E"
      },
      "source": [
        "3. Removing the words having more than 15 letters"
      ]
    },
    {
      "cell_type": "code",
      "metadata": {
        "id": "m_6fFKxuK6pS"
      },
      "source": [
        "dataFrame['Body'] = dataFrame['Body'].apply(lambda x: ' '.join(w for w in x.split() if len(w) < 15))"
      ],
      "execution_count": 12,
      "outputs": []
    },
    {
      "cell_type": "code",
      "metadata": {
        "id": "Wb_KnWE3LNqi"
      },
      "source": [
        ""
      ],
      "execution_count": 12,
      "outputs": []
    },
    {
      "cell_type": "markdown",
      "metadata": {
        "id": "2eAMFN3WLLv0"
      },
      "source": [
        "#Exploratory Data Analysis"
      ]
    },
    {
      "cell_type": "markdown",
      "metadata": {
        "id": "2x7WIh8DJ6CL"
      },
      "source": [
        "Class distribution of response variable"
      ]
    },
    {
      "cell_type": "code",
      "metadata": {
        "colab": {
          "base_uri": "https://localhost:8080/",
          "height": 299
        },
        "id": "wrB1ycaUvylx",
        "outputId": "998d1397-df07-43ed-e9df-5b110be75fa1"
      },
      "source": [
        "dataFrame['Category'].value_counts().plot.bar(rot=0, title= 'Class Distribution', x='Class', y='Frequency')"
      ],
      "execution_count": 13,
      "outputs": [
        {
          "output_type": "execute_result",
          "data": {
            "text/plain": [
              "<matplotlib.axes._subplots.AxesSubplot at 0x7f3cd1d67080>"
            ]
          },
          "metadata": {
            "tags": []
          },
          "execution_count": 13
        },
        {
          "output_type": "display_data",
          "data": {
            "image/png": "[encoded data removed]",
            "text/plain": [
              "<Figure size 432x288 with 1 Axes>"
            ]
          },
          "metadata": {
            "tags": [],
            "needs_background": "light"
          }
        }
      ]
    },
    {
      "cell_type": "code",
      "metadata": {
        "id": "BhrmVCokvef8",
        "colab": {
          "base_uri": "https://localhost:8080/"
        },
        "outputId": "eef0bfd2-e793-42c1-a280-4d6637dde5e0"
      },
      "source": [
        "dataFrame['Category'].value_counts()"
      ],
      "execution_count": 14,
      "outputs": [
        {
          "output_type": "execute_result",
          "data": {
            "text/plain": [
              "Person          131\n",
              "Organization    111\n",
              "Geography        36\n",
              "Time             21\n",
              "Name: Category, dtype: int64"
            ]
          },
          "metadata": {
            "tags": []
          },
          "execution_count": 14
        }
      ]
    },
    {
      "cell_type": "code",
      "metadata": {
        "id": "efZa8FP5mynf"
      },
      "source": [
        ""
      ],
      "execution_count": 14,
      "outputs": []
    },
    {
      "cell_type": "markdown",
      "metadata": {
        "id": "FbOmPu-mZ9Pf"
      },
      "source": [
        "Counting the number of words in each document"
      ]
    },
    {
      "cell_type": "code",
      "metadata": {
        "id": "zqZ8LktUvlLL"
      },
      "source": [
        "wordCount = lambda row: len(row['Body'].split(\" \"))\n",
        "dataFrame['wordCount'] = dataFrame.apply(wordCount, axis=1)"
      ],
      "execution_count": 15,
      "outputs": []
    },
    {
      "cell_type": "markdown",
      "metadata": {
        "id": "bh-g1WhGCa_k"
      },
      "source": [
        "Sorting the documents in the descending order of wordCount"
      ]
    },
    {
      "cell_type": "code",
      "metadata": {
        "id": "tbKTQ4WWvmJP",
        "colab": {
          "base_uri": "https://localhost:8080/",
          "height": 415
        },
        "outputId": "227c9eef-c90e-4416-dabb-2c1497273a78"
      },
      "source": [
        "dataFrame.sort_values(by= 'wordCount', ascending= False)"
      ],
      "execution_count": 16,
      "outputs": [
        {
          "output_type": "execute_result",
          "data": {
            "text/html": [
              "<div>\n",
              "<style scoped>\n",
              "    .dataframe tbody tr th:only-of-type {\n",
              "        vertical-align: middle;\n",
              "    }\n",
              "\n",
              "    .dataframe tbody tr th {\n",
              "        vertical-align: top;\n",
              "    }\n",
              "\n",
              "    .dataframe thead th {\n",
              "        text-align: right;\n",
              "    }\n",
              "</style>\n",
              "<table border=\"1\" class=\"dataframe\">\n",
              "  <thead>\n",
              "    <tr style=\"text-align: right;\">\n",
              "      <th></th>\n",
              "      <th>Body</th>\n",
              "      <th>Category</th>\n",
              "      <th>wordCount</th>\n",
              "    </tr>\n",
              "  </thead>\n",
              "  <tbody>\n",
              "    <tr>\n",
              "      <th>260</th>\n",
              "      <td>Reverend Nicholas McKay an associate of Dr Jam...</td>\n",
              "      <td>Organization</td>\n",
              "      <td>3670</td>\n",
              "    </tr>\n",
              "    <tr>\n",
              "      <th>246</th>\n",
              "      <td>Indianapolis felt the effects with full force ...</td>\n",
              "      <td>Time</td>\n",
              "      <td>2284</td>\n",
              "    </tr>\n",
              "    <tr>\n",
              "      <th>258</th>\n",
              "      <td>No other city can brag of having at one time o...</td>\n",
              "      <td>Organization</td>\n",
              "      <td>2197</td>\n",
              "    </tr>\n",
              "    <tr>\n",
              "      <th>248</th>\n",
              "      <td>On July 15 1889 five special trains carried hu...</td>\n",
              "      <td>Time</td>\n",
              "      <td>1953</td>\n",
              "    </tr>\n",
              "    <tr>\n",
              "      <th>247</th>\n",
              "      <td>About 1910 Indianapolis was considered the fou...</td>\n",
              "      <td>Time</td>\n",
              "      <td>1791</td>\n",
              "    </tr>\n",
              "    <tr>\n",
              "      <th>...</th>\n",
              "      <td>...</td>\n",
              "      <td>...</td>\n",
              "      <td>...</td>\n",
              "    </tr>\n",
              "    <tr>\n",
              "      <th>107</th>\n",
              "      <td>In October 1902 nautical buff Joe Stahr opened...</td>\n",
              "      <td>Organization</td>\n",
              "      <td>140</td>\n",
              "    </tr>\n",
              "    <tr>\n",
              "      <th>138</th>\n",
              "      <td>The line entered Indianapolis from the northea...</td>\n",
              "      <td>Geography</td>\n",
              "      <td>131</td>\n",
              "    </tr>\n",
              "    <tr>\n",
              "      <th>194</th>\n",
              "      <td>Organized by the federal government and admini...</td>\n",
              "      <td>Organization</td>\n",
              "      <td>128</td>\n",
              "    </tr>\n",
              "    <tr>\n",
              "      <th>88</th>\n",
              "      <td>Mitchell had practiced medicine in Kentucky fo...</td>\n",
              "      <td>Person</td>\n",
              "      <td>124</td>\n",
              "    </tr>\n",
              "    <tr>\n",
              "      <th>147</th>\n",
              "      <td>The 1980s saw an increase in these events with...</td>\n",
              "      <td>Geography</td>\n",
              "      <td>42</td>\n",
              "    </tr>\n",
              "  </tbody>\n",
              "</table>\n",
              "<p>299 rows × 3 columns</p>\n",
              "</div>"
            ],
            "text/plain": [
              "                                                  Body      Category  wordCount\n",
              "260  Reverend Nicholas McKay an associate of Dr Jam...  Organization       3670\n",
              "246  Indianapolis felt the effects with full force ...          Time       2284\n",
              "258  No other city can brag of having at one time o...  Organization       2197\n",
              "248  On July 15 1889 five special trains carried hu...          Time       1953\n",
              "247  About 1910 Indianapolis was considered the fou...          Time       1791\n",
              "..                                                 ...           ...        ...\n",
              "107  In October 1902 nautical buff Joe Stahr opened...  Organization        140\n",
              "138  The line entered Indianapolis from the northea...     Geography        131\n",
              "194  Organized by the federal government and admini...  Organization        128\n",
              "88   Mitchell had practiced medicine in Kentucky fo...        Person        124\n",
              "147  The 1980s saw an increase in these events with...     Geography         42\n",
              "\n",
              "[299 rows x 3 columns]"
            ]
          },
          "metadata": {
            "tags": []
          },
          "execution_count": 16
        }
      ]
    },
    {
      "cell_type": "code",
      "metadata": {
        "id": "_q6M6doFbBZH"
      },
      "source": [
        ""
      ],
      "execution_count": 16,
      "outputs": []
    },
    {
      "cell_type": "markdown",
      "metadata": {
        "id": "fEkJ0Vm_bHEb"
      },
      "source": [
        "Counting the average number of words in each document"
      ]
    },
    {
      "cell_type": "code",
      "metadata": {
        "id": "MUEYiQ51miP_",
        "colab": {
          "base_uri": "https://localhost:8080/"
        },
        "outputId": "6adab048-5649-48f4-8970-e6b75b55d443"
      },
      "source": [
        "avg = np.round(dataFrame['wordCount'].mean())\n",
        "avg"
      ],
      "execution_count": 17,
      "outputs": [
        {
          "output_type": "execute_result",
          "data": {
            "text/plain": [
              "390.0"
            ]
          },
          "metadata": {
            "tags": []
          },
          "execution_count": 17
        }
      ]
    },
    {
      "cell_type": "markdown",
      "metadata": {
        "id": "tY0-uSsTNrsC"
      },
      "source": [
        "Average number of words in a document are 392"
      ]
    },
    {
      "cell_type": "code",
      "metadata": {
        "id": "1ZDMvFhdlVJA",
        "colab": {
          "base_uri": "https://localhost:8080/"
        },
        "outputId": "f3276783-e708-4ddd-fbef-a796f9387453"
      },
      "source": [
        "less_than_avg= 0\n",
        "for count in dataFrame['wordCount']:\n",
        "  if count<avg:\n",
        "    less_than_avg+=1\n",
        "print(\"Documents having word count less than the average:\",less_than_avg)"
      ],
      "execution_count": 18,
      "outputs": [
        {
          "output_type": "stream",
          "text": [
            "Documents having word count less than the average: 203\n"
          ],
          "name": "stdout"
        }
      ]
    },
    {
      "cell_type": "code",
      "metadata": {
        "id": "YCVN7PFal_Ko",
        "colab": {
          "base_uri": "https://localhost:8080/",
          "height": 248
        },
        "outputId": "a008a96f-8c17-4fee-fc1f-14922904ed86"
      },
      "source": [
        "labels = 'Less than Avg', 'More than Avg'\n",
        "sizes = [less_than_avg, len(dataFrame.wordCount) - less_than_avg]\n",
        "fig1, ax1 = plt.subplots()\n",
        "ax1.pie(sizes, labels=labels, autopct='%1.1f%%',\n",
        "        shadow=True, startangle=90)\n",
        "ax1.axis('equal')  \n",
        "\n",
        "plt.show()"
      ],
      "execution_count": 19,
      "outputs": [
        {
          "output_type": "display_data",
          "data": {
            "image/png": "[encoded data removed]",
            "text/plain": [
              "<Figure size 432x288 with 1 Axes>"
            ]
          },
          "metadata": {
            "tags": []
          }
        }
      ]
    },
    {
      "cell_type": "code",
      "metadata": {
        "id": "xAZz-y6Z0uCS"
      },
      "source": [
        ""
      ],
      "execution_count": 19,
      "outputs": []
    },
    {
      "cell_type": "markdown",
      "metadata": {
        "id": "PMwgKK9HMfSv"
      },
      "source": [
        "# Load and Prepare Data for Modelling:"
      ]
    },
    {
      "cell_type": "markdown",
      "metadata": {
        "id": "cpnJue8WC_QL"
      },
      "source": [
        "Dividing the data into Training and Validation Set"
      ]
    },
    {
      "cell_type": "code",
      "metadata": {
        "id": "5lTfXRk38kGX",
        "colab": {
          "base_uri": "https://localhost:8080/"
        },
        "outputId": "0670d4ea-697c-45a3-e989-0c1d2a8a15da"
      },
      "source": [
        "training_portion= 0.8\n",
        "train_size = int(len(dataFrame) * training_portion)\n",
        "\n",
        "train_articles = dataFrame['Body'][0: train_size]\n",
        "train_labels = dataFrame['Category'][0: train_size]\n",
        "\n",
        "validation_articles = dataFrame['Body'][train_size:]\n",
        "validation_labels = dataFrame['Category'][train_size:]\n",
        "\n",
        "print(\"Number of training articles: \",len(train_articles))\n",
        "print(\"Number of training responses: \",len(train_labels))\n",
        "\n",
        "print(\"Number of validation articles: \",len(validation_articles))\n",
        "print(\"Number of validation responses: \",len(validation_labels))"
      ],
      "execution_count": 20,
      "outputs": [
        {
          "output_type": "stream",
          "text": [
            "Number of training articles:  239\n",
            "Number of training responses:  239\n",
            "Number of validation articles:  60\n",
            "Number of validation responses:  60\n"
          ],
          "name": "stdout"
        }
      ]
    },
    {
      "cell_type": "code",
      "metadata": {
        "id": "ZynV6TWp9XA-",
        "colab": {
          "base_uri": "https://localhost:8080/"
        },
        "outputId": "f2244c60-6d4e-4f62-c434-e57e0c76aa78"
      },
      "source": [
        "print(\"Shape of training articles: \",train_articles.shape)\n",
        "print(\"Shape of training response: \",train_labels.shape)\n",
        "\n",
        "print(\"Shape of validation articles: \",validation_articles.shape)\n",
        "print(\"Shape of validation responses: \",validation_labels.shape)"
      ],
      "execution_count": 21,
      "outputs": [
        {
          "output_type": "stream",
          "text": [
            "Shape of training articles:  (239,)\n",
            "Shape of training response:  (239,)\n",
            "Shape of validation articles:  (60,)\n",
            "Shape of validation responses:  (60,)\n"
          ],
          "name": "stdout"
        }
      ]
    },
    {
      "cell_type": "code",
      "metadata": {
        "id": "_J1egeGug42E",
        "colab": {
          "base_uri": "https://localhost:8080/"
        },
        "outputId": "cd0bb2b1-dd12-4136-ad16-de543d16ef17"
      },
      "source": [
        "train_articles.head(3)"
      ],
      "execution_count": 22,
      "outputs": [
        {
          "output_type": "execute_result",
          "data": {
            "text/plain": [
              "0    Jan 1 1916 Nov 6 1987 As a college student Nel...\n",
              "1    Dec 24 1880 Jan 9 1938 Born in Arcola Illinois...\n",
              "2    The building’s design was born out of the heig...\n",
              "Name: Body, dtype: object"
            ]
          },
          "metadata": {
            "tags": []
          },
          "execution_count": 22
        }
      ]
    },
    {
      "cell_type": "markdown",
      "metadata": {
        "id": "DFFvlVG9aT2z"
      },
      "source": [
        "Controlling the hyper-parameters"
      ]
    },
    {
      "cell_type": "code",
      "metadata": {
        "id": "RJ1qutof9XGY"
      },
      "source": [
        "vocab_size = 8000\n",
        "embedding_dim = 32\n",
        "max_length = 300\n",
        "trunc_type = 'post'\n",
        "padding_type = 'post'\n",
        "oov_tok = '<OOV>'"
      ],
      "execution_count": 23,
      "outputs": []
    },
    {
      "cell_type": "markdown",
      "metadata": {
        "id": "czkE0IijabA_"
      },
      "source": [
        "Tokenizing the words"
      ]
    },
    {
      "cell_type": "code",
      "metadata": {
        "id": "fQbz-EbD9hbr",
        "colab": {
          "base_uri": "https://localhost:8080/"
        },
        "outputId": "890b091c-7b28-4582-c689-574eb1f07070"
      },
      "source": [
        "tokenizer = Tokenizer(num_words = vocab_size, oov_token=oov_tok)\n",
        "tokenizer.fit_on_texts(train_articles)\n",
        "word_index = tokenizer.word_index\n",
        "dict(list(word_index.items())[:5])"
      ],
      "execution_count": 24,
      "outputs": [
        {
          "output_type": "execute_result",
          "data": {
            "text/plain": [
              "{'<OOV>': 1, 'and': 3, 'in': 4, 'of': 5, 'the': 2}"
            ]
          },
          "metadata": {
            "tags": []
          },
          "execution_count": 24
        }
      ]
    },
    {
      "cell_type": "code",
      "metadata": {
        "id": "5IbYWKXu9xcx"
      },
      "source": [
        "train_sequences = tokenizer.texts_to_sequences(train_articles)"
      ],
      "execution_count": 25,
      "outputs": []
    },
    {
      "cell_type": "code",
      "metadata": {
        "id": "rgad6Q4CkAPW",
        "colab": {
          "base_uri": "https://localhost:8080/"
        },
        "outputId": "d2204cec-58f4-427b-8a4d-0e1f87ac8f8b"
      },
      "source": [
        "print(train_sequences[0])"
      ],
      "execution_count": 26,
      "outputs": [
        {
          "output_type": "stream",
          "text": [
            "[648, 111, 565, 1020, 293, 284, 12, 7, 97, 878, 5374, 528, 5375, 2163, 1109, 7, 466, 4, 146, 113, 2, 2164, 2527, 285, 529, 5376, 5377, 21, 3851, 3852, 97, 3023, 2527, 3, 1497, 99, 2165, 390, 4, 146, 126, 21, 446, 3853, 60, 1110, 274, 105, 3024, 99, 466, 4, 1110, 243, 5378, 3, 2, 5379, 5380, 134, 1667, 6, 8, 4, 949, 17, 99, 2166, 1668, 1669, 2528, 69, 76, 12, 697, 201, 5, 2, 61, 113, 5381, 698, 8, 3, 43, 114, 123, 2528, 76, 12, 2167, 201, 5, 2, 8, 566, 402, 11, 21, 496, 6, 567, 53, 105, 37, 697, 201, 5, 2, 317, 72, 14, 318, 70, 5, 8, 11, 1914, 105, 162, 16, 7, 71, 5, 1498, 2, 140, 10, 4, 2168, 2529, 20, 879, 745, 183, 1111, 798, 2, 3025, 336, 16, 5382, 361, 48, 24, 27, 38, 1499, 135, 467, 2528, 3026, 2, 403, 6, 2, 391, 5383, 130, 16, 5384, 5385, 184, 3, 2, 3854, 5, 2, 286, 163, 9, 2, 1914, 14, 235, 105, 2169, 65, 49, 1112, 1670, 34, 120, 3, 3855, 404, 1915, 9, 568, 224, 3, 287, 105, 1500, 9, 127, 2530, 4, 746, 2528, 10, 252, 4, 65, 49, 350, 5386, 1671, 7, 305, 5, 2170, 9, 99, 126, 105, 10, 351, 569, 5, 2, 63, 13, 570, 5387, 570, 5388, 4, 699, 3, 13, 2, 1914, 4, 567, 2, 318, 1916, 2171, 11, 3027, 99, 17, 22, 2172, 350, 1501, 880, 4, 567, 105, 10, 7, 3028, 5, 2, 15, 3856, 880, 4, 799, 3, 10, 351, 15, 146, 2531, 5, 2, 63, 4, 1354]\n"
          ],
          "name": "stdout"
        }
      ]
    },
    {
      "cell_type": "markdown",
      "metadata": {
        "id": "oXOPiXQRw0iK"
      },
      "source": [
        "Padding the training sequences till the maximum length of the article"
      ]
    },
    {
      "cell_type": "code",
      "metadata": {
        "id": "QcvD4e6BkKdC",
        "colab": {
          "base_uri": "https://localhost:8080/"
        },
        "outputId": "f54d28d1-afa1-4221-9b0d-7c2ee2831060"
      },
      "source": [
        "train_padded = pad_sequences(train_sequences, maxlen=max_length, padding=padding_type, truncating=trunc_type)\n",
        "\n",
        "print(\"Length of training sequences before padding: \",len(train_sequences[0]))\n",
        "print(\"Length of training sequences after padding: \",train_padded.shape[1])"
      ],
      "execution_count": 27,
      "outputs": [
        {
          "output_type": "stream",
          "text": [
            "Length of training sequences before padding:  272\n",
            "Length of training sequences after padding:  300\n"
          ],
          "name": "stdout"
        }
      ]
    },
    {
      "cell_type": "markdown",
      "metadata": {
        "id": "5PYfCa-pzM75"
      },
      "source": [
        "Padding the training"
      ]
    },
    {
      "cell_type": "code",
      "metadata": {
        "id": "YiNDHjFtkcHB",
        "colab": {
          "base_uri": "https://localhost:8080/"
        },
        "outputId": "32494dab-70cf-4d83-8082-18fafde0f7b2"
      },
      "source": [
        "validation_sequences = tokenizer.texts_to_sequences(validation_articles)\n",
        "validation_padded = pad_sequences(validation_sequences, maxlen=max_length, padding=padding_type, truncating=trunc_type)\n",
        "\n",
        "print(\"Length of validation sequences before padding: \", len(validation_sequences[0]))\n",
        "print(\"Length of validation sequences after padding:\",validation_padded.shape[1])"
      ],
      "execution_count": 28,
      "outputs": [
        {
          "output_type": "stream",
          "text": [
            "Length of validation sequences before padding:  279\n",
            "Length of validation sequences after padding: 300\n"
          ],
          "name": "stdout"
        }
      ]
    },
    {
      "cell_type": "markdown",
      "metadata": {
        "id": "99EsP9iN1icJ"
      },
      "source": [
        "Tokenizing the labels "
      ]
    },
    {
      "cell_type": "code",
      "metadata": {
        "id": "w9Tlwaxdkh7S",
        "colab": {
          "base_uri": "https://localhost:8080/"
        },
        "outputId": "7f618099-de4d-42ac-e922-ff0027f00fa3"
      },
      "source": [
        "label_tokenizer = Tokenizer()\n",
        "label_tokenizer.fit_on_texts(dataFrame['Category'])\n",
        "\n",
        "training_label_seq = np.array(label_tokenizer.texts_to_sequences(train_labels))\n",
        "training_label_seq = np.subtract(training_label_seq,1) \n",
        "\n",
        "validation_label_seq = np.array(label_tokenizer.texts_to_sequences(validation_labels))\n",
        "validation_label_seq = np.subtract(validation_label_seq,1) \n",
        " \n",
        "print(training_label_seq[0])\n",
        "print(training_label_seq[1])\n",
        "print(training_label_seq[2])\n",
        "print(training_label_seq.shape)\n",
        "\n",
        "print(validation_label_seq[0])\n",
        "print(validation_label_seq[1])\n",
        "print(validation_label_seq[2])\n",
        "print(validation_label_seq.shape)"
      ],
      "execution_count": 29,
      "outputs": [
        {
          "output_type": "stream",
          "text": [
            "[0]\n",
            "[0]\n",
            "[3]\n",
            "(239, 1)\n",
            "[1]\n",
            "[2]\n",
            "[0]\n",
            "(60, 1)\n"
          ],
          "name": "stdout"
        }
      ]
    },
    {
      "cell_type": "markdown",
      "metadata": {
        "id": "dknXAPijak9x"
      },
      "source": [
        "# Building the model"
      ]
    },
    {
      "cell_type": "code",
      "metadata": {
        "id": "jZUSnNKd7AWG",
        "colab": {
          "base_uri": "https://localhost:8080/"
        },
        "outputId": "46a35bab-feb8-47b3-beae-d01059eda5ed"
      },
      "source": [
        "model = tf.keras.Sequential([\n",
        "    tf.keras.layers.Embedding(vocab_size, embedding_dim),\n",
        "    tf.keras.layers.Bidirectional(tf.keras.layers.LSTM(embedding_dim)),\n",
        "    tf.keras.layers.Dense(embedding_dim, activation='relu'),\n",
        "    tf.keras.layers.Dense(4, activation='softmax')\n",
        "])\n",
        "model.summary()"
      ],
      "execution_count": 30,
      "outputs": [
        {
          "output_type": "stream",
          "text": [
            "Model: \"sequential\"\n",
            "_________________________________________________________________\n",
            "Layer (type)                 Output Shape              Param #   \n",
            "=================================================================\n",
            "embedding (Embedding)        (None, None, 32)          256000    \n",
            "_________________________________________________________________\n",
            "bidirectional (Bidirectional (None, 64)                16640     \n",
            "_________________________________________________________________\n",
            "dense (Dense)                (None, 32)                2080      \n",
            "_________________________________________________________________\n",
            "dense_1 (Dense)              (None, 4)                 132       \n",
            "=================================================================\n",
            "Total params: 274,852\n",
            "Trainable params: 274,852\n",
            "Non-trainable params: 0\n",
            "_________________________________________________________________\n"
          ],
          "name": "stdout"
        }
      ]
    },
    {
      "cell_type": "code",
      "metadata": {
        "id": "IReI3HHM3WWZ",
        "colab": {
          "base_uri": "https://localhost:8080/",
          "height": 466
        },
        "outputId": "fb90a9de-336a-4a0a-9f5c-212a3c52057e"
      },
      "source": [
        "plot_model(model, to_file='model.png')"
      ],
      "execution_count": 31,
      "outputs": [
        {
          "output_type": "execute_result",
          "data": {
            "image/png": "[encoded data removed]",
            "text/plain": [
              "<IPython.core.display.Image object>"
            ]
          },
          "metadata": {
            "tags": []
          },
          "execution_count": 31
        }
      ]
    },
    {
      "cell_type": "code",
      "metadata": {
        "id": "NHz5QpQmZpA0",
        "colab": {
          "base_uri": "https://localhost:8080/"
        },
        "outputId": "2efcb657-45ea-4a8f-8bc1-ca33eb46acdb"
      },
      "source": [
        "model.compile(loss='sparse_categorical_crossentropy', optimizer='adam', metrics=['accuracy'])\n",
        "num_epochs = 10\n",
        "history = model.fit(train_padded, training_label_seq, epochs=num_epochs, validation_data=(validation_padded, validation_label_seq), verbose=2)"
      ],
      "execution_count": 32,
      "outputs": [
        {
          "output_type": "stream",
          "text": [
            "Epoch 1/10\n",
            "8/8 - 6s - loss: 1.3688 - accuracy: 0.4561 - val_loss: 1.3461 - val_accuracy: 0.5500\n",
            "Epoch 2/10\n",
            "8/8 - 2s - loss: 1.3028 - accuracy: 0.6151 - val_loss: 1.2736 - val_accuracy: 0.5333\n",
            "Epoch 3/10\n",
            "8/8 - 1s - loss: 1.1776 - accuracy: 0.5900 - val_loss: 1.2367 - val_accuracy: 0.5833\n",
            "Epoch 4/10\n",
            "8/8 - 1s - loss: 1.1132 - accuracy: 0.6276 - val_loss: 1.2314 - val_accuracy: 0.5333\n",
            "Epoch 5/10\n",
            "8/8 - 1s - loss: 1.0570 - accuracy: 0.6192 - val_loss: 1.1694 - val_accuracy: 0.5833\n",
            "Epoch 6/10\n",
            "8/8 - 1s - loss: 1.0018 - accuracy: 0.6904 - val_loss: 1.1509 - val_accuracy: 0.6333\n",
            "Epoch 7/10\n",
            "8/8 - 2s - loss: 0.8726 - accuracy: 0.7782 - val_loss: 1.1072 - val_accuracy: 0.6833\n",
            "Epoch 8/10\n",
            "8/8 - 2s - loss: 0.6560 - accuracy: 0.7824 - val_loss: 1.0070 - val_accuracy: 0.5667\n",
            "Epoch 9/10\n",
            "8/8 - 1s - loss: 0.5597 - accuracy: 0.7741 - val_loss: 0.8706 - val_accuracy: 0.6333\n",
            "Epoch 10/10\n",
            "8/8 - 1s - loss: 0.4742 - accuracy: 0.8326 - val_loss: 0.8231 - val_accuracy: 0.7167\n"
          ],
          "name": "stdout"
        }
      ]
    },
    {
      "cell_type": "code",
      "metadata": {
        "id": "bzRogyzxDjGH"
      },
      "source": [
        ""
      ],
      "execution_count": 32,
      "outputs": []
    },
    {
      "cell_type": "markdown",
      "metadata": {
        "id": "eVIL3bS-MuHa"
      },
      "source": [
        "# Final Results"
      ]
    },
    {
      "cell_type": "markdown",
      "metadata": {
        "id": "oWhoICA5DiXV"
      },
      "source": [
        "Plotting Accuracy and Loss Plots"
      ]
    },
    {
      "cell_type": "code",
      "metadata": {
        "colab": {
          "base_uri": "https://localhost:8080/",
          "height": 546
        },
        "id": "ea6x14V4E1Zp",
        "outputId": "1b0591e6-9af6-443f-dd95-53679eeea0f6"
      },
      "source": [
        "def plot_graphs(history, string):\n",
        "  plt.plot(history.history[string])\n",
        "  plt.plot(history.history['val_'+string])\n",
        "  plt.xlabel(\"Epochs\")\n",
        "  plt.ylabel(string)\n",
        "  plt.legend([string, 'val_'+string])\n",
        "  plt.show()\n",
        "  \n",
        "plot_graphs(history, \"accuracy\")\n",
        "plot_graphs(history, \"loss\")"
      ],
      "execution_count": 33,
      "outputs": [
        {
          "output_type": "display_data",
          "data": {
            "image/png": "[encoded data removed]",
            "text/plain": [
              "<Figure size 432x288 with 1 Axes>"
            ]
          },
          "metadata": {
            "tags": [],
            "needs_background": "light"
          }
        },
        {
          "output_type": "display_data",
          "data": {
            "image/png": "[encoded data removed]",
            "text/plain": [
              "<Figure size 432x288 with 1 Axes>"
            ]
          },
          "metadata": {
            "tags": [],
            "needs_background": "light"
          }
        }
      ]
    },
    {
      "cell_type": "markdown",
      "metadata": {
        "id": "F8R0t45FbJlV"
      },
      "source": [
        "Prediction with a sample"
      ]
    },
    {
      "cell_type": "code",
      "metadata": {
        "id": "5QQe3lPupuF3",
        "colab": {
          "base_uri": "https://localhost:8080/"
        },
        "outputId": "7fff69ce-b808-431c-cd47-a8d054418f9e"
      },
      "source": [
        "txt= [\"(Aug. 30, 1847-Feb. 13, 1925). Born in St. Gaul, Switzerland, Scherrer studied in Vienna and Budapest before immigrating to New York City in 1870. After a two-year stay in Chicago, he arrived in Indianapolis by 1873. His first position in this city was as draftsman to {EDWIN MAY}::EL , one of Indianapolis' leading architects. May, who was commissioned to design the new state capitol, died in 1880 before the plan was completed. Scherrer finished the design for the {STATE HOUSE}::EL , which was completed in 1888. Scherrer designed many late 19th century public edifices in Indianapolis. Included among them are the Gothic, spired arches at the 34th Street and Boulevard Place entrance to {CROWN HILL CEMETERY}::EL (1885); the Pathology Department (now the Old Pathology Building, 1896) at {CENTRAL STATE HOSPITAL}::EL , as well as many additions to the hospital; the Maennerchor Building at 502 North Illinois (since demolished), erected for instruction about and appreciation of the great German composers (1906); and the Independent Turnverein building at 902 North Meridian (1913), now upscale apartments. Scherrer was an innovative architect as well as a prolific one. Some of his later residential designs, including 4375 North Meridian Street (1911), were early examples of the Prairie School style of architecture created by Frank Lloyd Wright. In 1891, Mayor Thomas Sullivan appointed Scherrer to the first Indianapolis Board of Public Works, which was responsible for hiring the engineer who designed the citys first comprehensive sewage system. Scherrer's sons, Anton and Herman, also became well-known Indianapolis architects, working first in collaboration with their father and, after his death, on their own under the name Adolph Scherrer and Sons. Scherrer, who was a fellow in the American Institute of Architects, experienced a serious stroke six years before his death, which caused some paralysis and effectively ended his career. Many of his buildings still stand in Indianapolis.\"]\n",
        "seq = tokenizer.texts_to_sequences(txt)\n",
        "padded = pad_sequences(seq, maxlen=max_length)\n",
        "pred = model.predict(padded)\n",
        "labels = ['person', 'geography', 'organization', 'time']\n",
        "print(\"The probability of this document belonging to differenr class is\", pred )\n",
        "print(\"The document belongs to \"+ labels[np.argmax(pred)] + \" category\")"
      ],
      "execution_count": 34,
      "outputs": [
        {
          "output_type": "stream",
          "text": [
            "The probability of this document belonging to differenr class is [[0.61681753 0.22154409 0.09925126 0.06238718]]\n",
            "The document belongs to person category\n"
          ],
          "name": "stdout"
        }
      ]
    },
    {
      "cell_type": "code",
      "metadata": {
        "id": "WlDmAb1riETo"
      },
      "source": [
        "labels_tested =[]\n",
        "for text in validation_padded:\n",
        "  seq = tokenizer.texts_to_sequences(txt)\n",
        "  padded = pad_sequences(seq, maxlen=max_length)\n",
        "  pred = model.predict(padded)\n",
        "  labels = ['person', 'geography', 'organization', 'time']\n",
        "  labels_tested.append(labels[np.argmax(pred)])\n",
        "\n"
      ],
      "execution_count": 35,
      "outputs": []
    },
    {
      "cell_type": "code",
      "metadata": {
        "id": "bWb8iV4fDoS0"
      },
      "source": [
        ""
      ],
      "execution_count": 35,
      "outputs": []
    },
    {
      "cell_type": "markdown",
      "metadata": {
        "id": "fYDsUEQ4DocS"
      },
      "source": [
        "Generating the Classifcation Report"
      ]
    },
    {
      "cell_type": "code",
      "metadata": {
        "id": "f-m93C2wl-jF",
        "colab": {
          "base_uri": "https://localhost:8080/"
        },
        "outputId": "45189844-0d8d-45e0-f9e9-4d55b32aa8ee"
      },
      "source": [
        "from sklearn.metrics import classification_report\n",
        "\n",
        "y_pred = model.predict(validation_padded, batch_size=64, verbose=1)\n",
        "y_pred_bool = np.argmax(y_pred, axis=1)\n",
        "\n",
        "print(classification_report(validation_label_seq, y_pred_bool))"
      ],
      "execution_count": 36,
      "outputs": [
        {
          "output_type": "stream",
          "text": [
            "1/1 [==============================] - 0s 68ms/step\n",
            "              precision    recall  f1-score   support\n",
            "\n",
            "           0       0.91      0.94      0.92        31\n",
            "           1       0.50      0.93      0.65        15\n",
            "           2       0.00      0.00      0.00         6\n",
            "           3       0.00      0.00      0.00         8\n",
            "\n",
            "    accuracy                           0.72        60\n",
            "   macro avg       0.35      0.47      0.39        60\n",
            "weighted avg       0.59      0.72      0.64        60\n",
            "\n"
          ],
          "name": "stdout"
        },
        {
          "output_type": "stream",
          "text": [
            "/usr/local/lib/python3.6/dist-packages/sklearn/metrics/_classification.py:1272: UndefinedMetricWarning: Precision and F-score are ill-defined and being set to 0.0 in labels with no predicted samples. Use `zero_division` parameter to control this behavior.\n",
            "  _warn_prf(average, modifier, msg_start, len(result))\n"
          ],
          "name": "stderr"
        }
      ]
    },
    {
      "cell_type": "code",
      "metadata": {
        "id": "ClS1tfxJ4YtB"
      },
      "source": [
        ""
      ],
      "execution_count": 36,
      "outputs": []
    }
  ]
}
